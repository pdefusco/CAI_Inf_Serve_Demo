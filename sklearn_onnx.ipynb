{
 "cells": [
  {
   "cell_type": "code",
   "execution_count": 9,
   "metadata": {},
   "outputs": [
    {
     "name": "stdout",
     "output_type": "stream",
     "text": [
      "Requirement already satisfied: onnx==1.13.1 in ./jupyter/lib/python3.9/site-packages (1.13.1)\n",
      "Requirement already satisfied: onnxruntime in ./jupyter/lib/python3.9/site-packages (1.16.3)\n",
      "Requirement already satisfied: skl2onnx in ./jupyter/lib/python3.9/site-packages (1.16.0)\n",
      "Requirement already satisfied: pandas in ./jupyter/lib/python3.9/site-packages (2.1.4)\n",
      "Requirement already satisfied: scikit-learn in ./jupyter/lib/python3.9/site-packages (1.3.2)\n",
      "Requirement already satisfied: typing-extensions>=3.6.2.1 in ./jupyter/lib/python3.9/site-packages (from onnx==1.13.1) (4.9.0)\n",
      "Requirement already satisfied: numpy>=1.16.6 in ./jupyter/lib/python3.9/site-packages (from onnx==1.13.1) (1.26.2)\n",
      "Requirement already satisfied: protobuf<4,>=3.20.2 in ./jupyter/lib/python3.9/site-packages (from onnx==1.13.1) (3.20.2)\n",
      "Requirement already satisfied: packaging in ./jupyter/lib/python3.9/site-packages (from onnxruntime) (23.2)\n",
      "Requirement already satisfied: coloredlogs in ./jupyter/lib/python3.9/site-packages (from onnxruntime) (15.0.1)\n",
      "Requirement already satisfied: sympy in ./jupyter/lib/python3.9/site-packages (from onnxruntime) (1.12)\n",
      "Requirement already satisfied: flatbuffers in ./jupyter/lib/python3.9/site-packages (from onnxruntime) (23.5.26)\n",
      "Requirement already satisfied: onnxconverter-common>=1.7.0 in ./jupyter/lib/python3.9/site-packages (from skl2onnx) (1.14.0)\n",
      "Requirement already satisfied: tzdata>=2022.1 in ./jupyter/lib/python3.9/site-packages (from pandas) (2023.3)\n",
      "Requirement already satisfied: pytz>=2020.1 in ./jupyter/lib/python3.9/site-packages (from pandas) (2023.3.post1)\n",
      "Requirement already satisfied: python-dateutil>=2.8.2 in ./jupyter/lib/python3.9/site-packages (from pandas) (2.8.2)\n",
      "Requirement already satisfied: threadpoolctl>=2.0.0 in ./jupyter/lib/python3.9/site-packages (from scikit-learn) (3.2.0)\n",
      "Requirement already satisfied: joblib>=1.1.1 in ./jupyter/lib/python3.9/site-packages (from scikit-learn) (1.3.2)\n",
      "Requirement already satisfied: scipy>=1.5.0 in ./jupyter/lib/python3.9/site-packages (from scikit-learn) (1.11.4)\n",
      "Requirement already satisfied: six>=1.5 in ./jupyter/lib/python3.9/site-packages (from python-dateutil>=2.8.2->pandas) (1.16.0)\n",
      "Requirement already satisfied: humanfriendly>=9.1 in ./jupyter/lib/python3.9/site-packages (from coloredlogs->onnxruntime) (10.0)\n",
      "Requirement already satisfied: mpmath>=0.19 in ./jupyter/lib/python3.9/site-packages (from sympy->onnxruntime) (1.3.0)\n",
      "\u001b[33mWARNING: You are using pip version 21.2.4; however, version 23.3.2 is available.\n",
      "You should consider upgrading via the '/Users/tyler.yang/Downloads/jupyter/bin/python3 -m pip install --upgrade pip' command.\u001b[0m\n"
     ]
    }
   ],
   "source": [
    "!pip install onnx==1.13.1 onnxruntime skl2onnx pandas scikit-learn\n",
    "import logging\n",
    "import sys\n",
    "import warnings\n",
    "import onnx\n",
    "from urllib.parse import urlparse"
   ]
  },
  {
   "cell_type": "code",
   "execution_count": 10,
   "metadata": {},
   "outputs": [],
   "source": [
    "import numpy as np\n",
    "import pandas as pd\n",
    "from sklearn.linear_model import ElasticNet\n",
    "from sklearn.metrics import mean_absolute_error, mean_squared_error, r2_score\n",
    "from sklearn.model_selection import train_test_split\n",
    "from sklearn import pipeline\n",
    "from sklearn import linear_model\n",
    "from urllib.parse import urlparse\n",
    "from sklearn.preprocessing import FunctionTransformer"
   ]
  },
  {
   "cell_type": "code",
   "execution_count": 11,
   "metadata": {},
   "outputs": [
    {
     "name": "stdout",
     "output_type": "stream",
     "text": [
      "Requirement already satisfied: mlflow in ./jupyter/lib/python3.9/site-packages (2.9.2)\n",
      "Requirement already satisfied: sqlparse<1,>=0.4.0 in ./jupyter/lib/python3.9/site-packages (from mlflow) (0.4.4)\n",
      "Requirement already satisfied: pytz<2024 in ./jupyter/lib/python3.9/site-packages (from mlflow) (2023.3.post1)\n",
      "Requirement already satisfied: querystring-parser<2 in ./jupyter/lib/python3.9/site-packages (from mlflow) (1.2.4)\n",
      "Requirement already satisfied: numpy<2 in ./jupyter/lib/python3.9/site-packages (from mlflow) (1.26.2)\n",
      "Requirement already satisfied: gunicorn<22 in ./jupyter/lib/python3.9/site-packages (from mlflow) (21.2.0)\n",
      "Requirement already satisfied: alembic!=1.10.0,<2 in ./jupyter/lib/python3.9/site-packages (from mlflow) (1.13.0)\n",
      "Requirement already satisfied: databricks-cli<1,>=0.8.7 in ./jupyter/lib/python3.9/site-packages (from mlflow) (0.18.0)\n",
      "Requirement already satisfied: sqlalchemy<3,>=1.4.0 in ./jupyter/lib/python3.9/site-packages (from mlflow) (2.0.23)\n",
      "Requirement already satisfied: scipy<2 in ./jupyter/lib/python3.9/site-packages (from mlflow) (1.11.4)\n",
      "Requirement already satisfied: requests<3,>=2.17.3 in ./jupyter/lib/python3.9/site-packages (from mlflow) (2.31.0)\n",
      "Requirement already satisfied: pandas<3 in ./jupyter/lib/python3.9/site-packages (from mlflow) (2.1.4)\n",
      "Requirement already satisfied: docker<7,>=4.0.0 in ./jupyter/lib/python3.9/site-packages (from mlflow) (6.1.3)\n",
      "Requirement already satisfied: Flask<4 in ./jupyter/lib/python3.9/site-packages (from mlflow) (3.0.0)\n",
      "Requirement already satisfied: click<9,>=7.0 in ./jupyter/lib/python3.9/site-packages (from mlflow) (8.1.7)\n",
      "Requirement already satisfied: gitpython<4,>=2.1.0 in ./jupyter/lib/python3.9/site-packages (from mlflow) (3.1.40)\n",
      "Requirement already satisfied: packaging<24 in ./jupyter/lib/python3.9/site-packages (from mlflow) (23.2)\n",
      "Requirement already satisfied: pyyaml<7,>=5.1 in ./jupyter/lib/python3.9/site-packages (from mlflow) (6.0.1)\n",
      "Requirement already satisfied: Jinja2<4,>=2.11 in ./jupyter/lib/python3.9/site-packages (from mlflow) (3.1.2)\n",
      "Requirement already satisfied: matplotlib<4 in ./jupyter/lib/python3.9/site-packages (from mlflow) (3.8.2)\n",
      "Requirement already satisfied: protobuf<5,>=3.12.0 in ./jupyter/lib/python3.9/site-packages (from mlflow) (3.20.2)\n",
      "Requirement already satisfied: entrypoints<1 in ./jupyter/lib/python3.9/site-packages (from mlflow) (0.4)\n",
      "Requirement already satisfied: pyarrow<15,>=4.0.0 in ./jupyter/lib/python3.9/site-packages (from mlflow) (14.0.2)\n",
      "Requirement already satisfied: importlib-metadata!=4.7.0,<8,>=3.7.0 in ./jupyter/lib/python3.9/site-packages (from mlflow) (7.0.0)\n",
      "Requirement already satisfied: markdown<4,>=3.3 in ./jupyter/lib/python3.9/site-packages (from mlflow) (3.5.1)\n",
      "Requirement already satisfied: scikit-learn<2 in ./jupyter/lib/python3.9/site-packages (from mlflow) (1.3.2)\n",
      "Requirement already satisfied: cloudpickle<4 in ./jupyter/lib/python3.9/site-packages (from mlflow) (3.0.0)\n",
      "Requirement already satisfied: Mako in ./jupyter/lib/python3.9/site-packages (from alembic!=1.10.0,<2->mlflow) (1.3.0)\n",
      "Requirement already satisfied: typing-extensions>=4 in ./jupyter/lib/python3.9/site-packages (from alembic!=1.10.0,<2->mlflow) (4.9.0)\n",
      "Requirement already satisfied: tabulate>=0.7.7 in ./jupyter/lib/python3.9/site-packages (from databricks-cli<1,>=0.8.7->mlflow) (0.9.0)\n",
      "Requirement already satisfied: six>=1.10.0 in ./jupyter/lib/python3.9/site-packages (from databricks-cli<1,>=0.8.7->mlflow) (1.16.0)\n",
      "Requirement already satisfied: urllib3<3,>=1.26.7 in ./jupyter/lib/python3.9/site-packages (from databricks-cli<1,>=0.8.7->mlflow) (2.1.0)\n",
      "Requirement already satisfied: oauthlib>=3.1.0 in ./jupyter/lib/python3.9/site-packages (from databricks-cli<1,>=0.8.7->mlflow) (3.2.2)\n",
      "Requirement already satisfied: pyjwt>=1.7.0 in ./jupyter/lib/python3.9/site-packages (from databricks-cli<1,>=0.8.7->mlflow) (2.8.0)\n",
      "Requirement already satisfied: websocket-client>=0.32.0 in ./jupyter/lib/python3.9/site-packages (from docker<7,>=4.0.0->mlflow) (1.7.0)\n",
      "Requirement already satisfied: blinker>=1.6.2 in ./jupyter/lib/python3.9/site-packages (from Flask<4->mlflow) (1.7.0)\n",
      "Requirement already satisfied: itsdangerous>=2.1.2 in ./jupyter/lib/python3.9/site-packages (from Flask<4->mlflow) (2.1.2)\n",
      "Requirement already satisfied: Werkzeug>=3.0.0 in ./jupyter/lib/python3.9/site-packages (from Flask<4->mlflow) (3.0.1)\n",
      "Requirement already satisfied: gitdb<5,>=4.0.1 in ./jupyter/lib/python3.9/site-packages (from gitpython<4,>=2.1.0->mlflow) (4.0.11)\n",
      "Requirement already satisfied: smmap<6,>=3.0.1 in ./jupyter/lib/python3.9/site-packages (from gitdb<5,>=4.0.1->gitpython<4,>=2.1.0->mlflow) (5.0.1)\n",
      "Requirement already satisfied: zipp>=0.5 in ./jupyter/lib/python3.9/site-packages (from importlib-metadata!=4.7.0,<8,>=3.7.0->mlflow) (3.17.0)\n",
      "Requirement already satisfied: MarkupSafe>=2.0 in ./jupyter/lib/python3.9/site-packages (from Jinja2<4,>=2.11->mlflow) (2.1.3)\n",
      "Requirement already satisfied: fonttools>=4.22.0 in ./jupyter/lib/python3.9/site-packages (from matplotlib<4->mlflow) (4.47.0)\n",
      "Requirement already satisfied: contourpy>=1.0.1 in ./jupyter/lib/python3.9/site-packages (from matplotlib<4->mlflow) (1.2.0)\n",
      "Requirement already satisfied: importlib-resources>=3.2.0 in ./jupyter/lib/python3.9/site-packages (from matplotlib<4->mlflow) (6.1.1)\n",
      "Requirement already satisfied: cycler>=0.10 in ./jupyter/lib/python3.9/site-packages (from matplotlib<4->mlflow) (0.12.1)\n",
      "Requirement already satisfied: python-dateutil>=2.7 in ./jupyter/lib/python3.9/site-packages (from matplotlib<4->mlflow) (2.8.2)\n",
      "Requirement already satisfied: kiwisolver>=1.3.1 in ./jupyter/lib/python3.9/site-packages (from matplotlib<4->mlflow) (1.4.5)\n",
      "Requirement already satisfied: pillow>=8 in ./jupyter/lib/python3.9/site-packages (from matplotlib<4->mlflow) (10.1.0)\n",
      "Requirement already satisfied: pyparsing>=2.3.1 in ./jupyter/lib/python3.9/site-packages (from matplotlib<4->mlflow) (3.1.1)\n",
      "Requirement already satisfied: tzdata>=2022.1 in ./jupyter/lib/python3.9/site-packages (from pandas<3->mlflow) (2023.3)\n",
      "Requirement already satisfied: certifi>=2017.4.17 in ./jupyter/lib/python3.9/site-packages (from requests<3,>=2.17.3->mlflow) (2023.11.17)\n",
      "Requirement already satisfied: charset-normalizer<4,>=2 in ./jupyter/lib/python3.9/site-packages (from requests<3,>=2.17.3->mlflow) (3.3.2)\n",
      "Requirement already satisfied: idna<4,>=2.5 in ./jupyter/lib/python3.9/site-packages (from requests<3,>=2.17.3->mlflow) (3.6)\n",
      "Requirement already satisfied: joblib>=1.1.1 in ./jupyter/lib/python3.9/site-packages (from scikit-learn<2->mlflow) (1.3.2)\n",
      "Requirement already satisfied: threadpoolctl>=2.0.0 in ./jupyter/lib/python3.9/site-packages (from scikit-learn<2->mlflow) (3.2.0)\n",
      "\u001b[33mWARNING: You are using pip version 21.2.4; however, version 23.3.2 is available.\n",
      "You should consider upgrading via the '/Users/tyler.yang/Downloads/jupyter/bin/python3 -m pip install --upgrade pip' command.\u001b[0m\n"
     ]
    }
   ],
   "source": [
    "!pip install mlflow"
   ]
  },
  {
   "cell_type": "code",
   "execution_count": 12,
   "metadata": {},
   "outputs": [
    {
     "name": "stderr",
     "output_type": "stream",
     "text": [
      "/Users/tyler.yang/Downloads/jupyter/lib/python3.9/site-packages/urllib3/__init__.py:34: NotOpenSSLWarning: urllib3 v2 only supports OpenSSL 1.1.1+, currently the 'ssl' module is compiled with 'LibreSSL 2.8.3'. See: https://github.com/urllib3/urllib3/issues/3020\n",
      "  warnings.warn(\n"
     ]
    }
   ],
   "source": [
    "import mlflow\n",
    "import mlflow.sklearn\n",
    "from mlflow.models import infer_signature"
   ]
  },
  {
   "cell_type": "code",
   "execution_count": 25,
   "metadata": {},
   "outputs": [],
   "source": [
    "from skl2onnx import to_onnx\n",
    "from skl2onnx import convert_sklearn\n",
    "from skl2onnx.common.data_types import FloatTensorType"
   ]
  },
  {
   "cell_type": "code",
   "execution_count": 26,
   "metadata": {},
   "outputs": [],
   "source": [
    "logging.basicConfig(level=logging.WARN)\n",
    "logger = logging.getLogger(__name__)"
   ]
  },
  {
   "cell_type": "code",
   "execution_count": 27,
   "metadata": {},
   "outputs": [],
   "source": [
    "def convert_to_onnx(model, data):\n",
    "    #check the specifications\n",
    "    initial_types = list(\n",
    "    zip(\n",
    "        data.columns.values.tolist(),\n",
    "        [FloatTensorType([None, 1]) for _ in range(len(data.columns))],\n",
    "    )\n",
    ")\n",
    "    onnx_model = convert_sklearn(model=model, initial_types=initial_types)\n",
    "    print(\"onnx_model.type:\",type(onnx_model))\n",
    "    mlflow.set_tag(\"onnx_version\",onnx.__version__)\n",
    "    return onnx_model"
   ]
  },
  {
   "cell_type": "code",
   "execution_count": 28,
   "metadata": {},
   "outputs": [],
   "source": [
    "def eval_metrics(actual, pred):\n",
    "    rmse = np.sqrt(mean_squared_error(actual, pred))\n",
    "    mae = mean_absolute_error(actual, pred)\n",
    "    r2 = r2_score(actual, pred)\n",
    "    return rmse, mae, r2"
   ]
  },
  {
   "cell_type": "code",
   "execution_count": 29,
   "metadata": {},
   "outputs": [],
   "source": [
    "warnings.filterwarnings(\"ignore\")\n",
    "np.random.seed(40)"
   ]
  },
  {
   "cell_type": "markdown",
   "metadata": {},
   "source": [
    "Read the wine-quality csv file from the URL"
   ]
  },
  {
   "cell_type": "code",
   "execution_count": 30,
   "metadata": {},
   "outputs": [],
   "source": [
    "csv_url = (\n",
    "        \"http://archive.ics.uci.edu/ml\"\n",
    "        \"/machine-learning-databases/wine-quality/winequality-red.csv\"\n",
    "    )\n",
    "try:\n",
    "    data = pd.read_csv(csv_url, sep=\";\")\n",
    "except Exception as e:\n",
    "    logger.exception(\n",
    "        \"Unable to download training & test CSV, check your internet connection. Error: %s\", e\n",
    "    )"
   ]
  },
  {
   "cell_type": "markdown",
   "metadata": {},
   "source": [
    "Split the data into training and test sets. (0.75, 0.25) split."
   ]
  },
  {
   "cell_type": "code",
   "execution_count": 31,
   "metadata": {},
   "outputs": [],
   "source": [
    "train, test = train_test_split(data)"
   ]
  },
  {
   "cell_type": "markdown",
   "metadata": {},
   "source": [
    "The predicted column is \"quality\" which is a scalar from [3, 9]"
   ]
  },
  {
   "cell_type": "code",
   "execution_count": 33,
   "metadata": {},
   "outputs": [],
   "source": [
    "train_x = train.drop([\"quality\"], axis=1)\n",
    "test_x = test.drop([\"quality\"], axis=1)\n",
    "train_y = train[[\"quality\"]]\n",
    "test_y = test[[\"quality\"]]"
   ]
  },
  {
   "cell_type": "code",
   "execution_count": 34,
   "metadata": {},
   "outputs": [],
   "source": [
    "alpha = 0.5\n",
    "l1_ratio = 0.5"
   ]
  },
  {
   "cell_type": "code",
   "execution_count": 48,
   "metadata": {},
   "outputs": [
    {
     "name": "stdout",
     "output_type": "stream",
     "text": [
      "Elasticnet model (alpha=0.500000, l1_ratio=0.500000):\n",
      "  RMSE: 0.7931640229276851\n",
      "  MAE: 0.6271946374319586\n",
      "  R2: 0.10862644997792614\n",
      "onnx_model.type: <class 'onnx.onnx_ml_pb2.ModelProto'>\n"
     ]
    },
    {
     "name": "stderr",
     "output_type": "stream",
     "text": [
      "Registered model 'ElasticnetWineModel' already exists. Creating a new version of this model...\n",
      "Created version '10' of model 'ElasticnetWineModel'.\n"
     ]
    }
   ],
   "source": [
    "with mlflow.start_run():\n",
    "    lr = ElasticNet(alpha=alpha, l1_ratio=l1_ratio, random_state=42)\n",
    "    DummyScaler = FunctionTransformer(None)\n",
    "    lr = pipeline.Pipeline(\n",
    "    [(\"dummy\", DummyScaler), (\"reg\", linear_model.ElasticNet(alpha=alpha, l1_ratio=l1_ratio, random_state=42))]\n",
    ")\n",
    "    lr.fit(train_x, train_y)\n",
    "    predicted_qualities = lr.predict(test_x)\n",
    "    (rmse, mae, r2) = eval_metrics(test_y, predicted_qualities)\n",
    "    print(f\"Elasticnet model (alpha={alpha:f}, l1_ratio={l1_ratio:f}):\")\n",
    "    print(f\"  RMSE: {rmse}\")\n",
    "    print(f\"  MAE: {mae}\")\n",
    "    print(f\"  R2: {r2}\")\n",
    "    mlflow.log_param(\"alpha\", alpha)\n",
    "    mlflow.log_param(\"l1_ratio\", l1_ratio)\n",
    "    mlflow.log_metric(\"rmse\", rmse)\n",
    "    mlflow.log_metric(\"r2\", r2)\n",
    "    mlflow.log_metric(\"mae\", mae)\n",
    "    predictions = lr.predict(train_x)\n",
    "    model_signature = infer_signature(train_x, predictions)\n",
    "    onnx_model = convert_to_onnx(lr, test_x)\n",
    "    mlflow.onnx.log_model(onnx_model, \"model\", registered_model_name=\"ElasticnetWineModel\", signature=model_signature)"
   ]
  },
  {
   "cell_type": "code",
   "execution_count": null,
   "metadata": {},
   "outputs": [],
   "source": []
  }
 ],
 "metadata": {
  "kernelspec": {
   "display_name": "Python 3 (ipykernel)",
   "language": "python",
   "name": "python3"
  },
  "language_info": {
   "codemirror_mode": {
    "name": "ipython",
    "version": 3
   },
   "file_extension": ".py",
   "mimetype": "text/x-python",
   "name": "python",
   "nbconvert_exporter": "python",
   "pygments_lexer": "ipython3",
   "version": "3.9.6"
  }
 },
 "nbformat": 4,
 "nbformat_minor": 4
}
